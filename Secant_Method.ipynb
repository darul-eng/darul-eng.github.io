{
  "nbformat": 4,
  "nbformat_minor": 0,
  "metadata": {
    "colab": {
      "name": "Secant Method.ipynb",
      "provenance": [],
      "collapsed_sections": [],
      "authorship_tag": "ABX9TyPfoacqPW2H4cn7o4ZkJVOC",
      "include_colab_link": true
    },
    "kernelspec": {
      "name": "python3",
      "display_name": "Python 3"
    }
  },
  "cells": [
    {
      "cell_type": "markdown",
      "metadata": {
        "id": "view-in-github",
        "colab_type": "text"
      },
      "source": [
        "<a href=\"https://colab.research.google.com/github/darul-eng/darul-eng.github.io/blob/master/Secant_Method.ipynb\" target=\"_parent\"><img src=\"https://colab.research.google.com/assets/colab-badge.svg\" alt=\"Open In Colab\"/></a>"
      ]
    },
    {
      "cell_type": "code",
      "metadata": {
        "id": "U3wlvrUFgJAu",
        "colab_type": "code",
        "colab": {
          "base_uri": "https://localhost:8080/",
          "height": 697
        },
        "outputId": "532f9c4d-a774-4554-e415-fb5f0b547b59"
      },
      "source": [
        "ea = 1\n",
        "es = 0.001\n",
        "x0 = 3\n",
        "x1 = 0\n",
        "itr = 0\n",
        "\n",
        "\n",
        "\n",
        "def xii (x):\n",
        "  return (-2*x**3+11.7*x**2+5)/17.7\n",
        "\n",
        "while ea > es:\n",
        "  x1 = xii(x0)\n",
        "  print(\"iterasi ke-\",itr)\n",
        "  print(\"xi = \", round(x0,4))\n",
        "  ea = abs(x0-x1)\n",
        "  x0 = x1\n",
        "  itr += 1\n",
        "  print(round(x0, 4))\n",
        "  print()"
      ],
      "execution_count": 25,
      "outputs": [
        {
          "output_type": "stream",
          "text": [
            "iterasi ke- 0\n",
            "xi =  3\n",
            "3.1808\n",
            "\n",
            "iterasi ke- 1\n",
            "xi =  3.1808\n",
            "3.334\n",
            "\n",
            "iterasi ke- 2\n",
            "xi =  3.334\n",
            "3.4425\n",
            "\n",
            "iterasi ke- 3\n",
            "xi =  3.4425\n",
            "3.5063\n",
            "\n",
            "iterasi ke- 4\n",
            "xi =  3.5063\n",
            "3.5383\n",
            "\n",
            "iterasi ke- 5\n",
            "xi =  3.5383\n",
            "3.5527\n",
            "\n",
            "iterasi ke- 6\n",
            "xi =  3.5527\n",
            "3.5588\n",
            "\n",
            "iterasi ke- 7\n",
            "xi =  3.5588\n",
            "3.5614\n",
            "\n",
            "iterasi ke- 8\n",
            "xi =  3.5614\n",
            "3.5624\n",
            "\n",
            "iterasi ke- 9\n",
            "xi =  3.5624\n",
            "3.5629\n",
            "\n"
          ],
          "name": "stdout"
        }
      ]
    },
    {
      "cell_type": "code",
      "metadata": {
        "id": "sItE31tFqa_0",
        "colab_type": "code",
        "colab": {}
      },
      "source": [
        ""
      ],
      "execution_count": 0,
      "outputs": []
    }
  ]
}